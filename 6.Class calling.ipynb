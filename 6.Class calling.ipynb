{
 "cells": [
  {
   "cell_type": "code",
   "execution_count": 2,
   "id": "a12cb002-ed69-46cf-8caf-02ed44bcf7aa",
   "metadata": {},
   "outputs": [],
   "source": [
    "from multipleFunctions import multipleFunctions\n",
    "#from filename import classname"
   ]
  },
  {
   "cell_type": "code",
   "execution_count": 6,
   "id": "53c2c471-f2ac-4e9f-8671-1e3edc0312c2",
   "metadata": {},
   "outputs": [
    {
     "name": "stdin",
     "output_type": "stream",
     "text": [
      "Enter the number: 4\n"
     ]
    },
    {
     "name": "stdout",
     "output_type": "stream",
     "text": [
      "Even\n"
     ]
    },
    {
     "data": {
      "text/plain": [
       "'Even'"
      ]
     },
     "execution_count": 6,
     "metadata": {},
     "output_type": "execute_result"
    }
   ],
   "source": [
    "multipleFunctions.oddEven()\n",
    "#classname.functionname()"
   ]
  },
  {
   "cell_type": "code",
   "execution_count": 4,
   "id": "4bfc98f2-7cf8-459a-b4d6-22858603f81d",
   "metadata": {},
   "outputs": [
    {
     "name": "stdin",
     "output_type": "stream",
     "text": [
      "Enter the BMI Index: 15\n"
     ]
    },
    {
     "name": "stdout",
     "output_type": "stream",
     "text": [
      "Underweight\n"
     ]
    }
   ],
   "source": [
    "multipleFunctions.bmi()"
   ]
  },
  {
   "cell_type": "code",
   "execution_count": 7,
   "id": "58c192fe-50ca-4d22-937d-2e60a3712cc1",
   "metadata": {},
   "outputs": [
    {
     "name": "stdout",
     "output_type": "stream",
     "text": [
      "pythonprogramming\n"
     ]
    }
   ],
   "source": [
    "print (\"python\" + \"programming\")"
   ]
  },
  {
   "cell_type": "code",
   "execution_count": 8,
   "id": "1d5c5d7f-0776-4a7c-9bca-285797e14498",
   "metadata": {},
   "outputs": [
    {
     "name": "stdout",
     "output_type": "stream",
     "text": [
      "5\n"
     ]
    }
   ],
   "source": [
    "x=5\n",
    "y=x\n",
    "x=10\n",
    "print(y)"
   ]
  },
  {
   "cell_type": "code",
   "execution_count": 9,
   "id": "12d9f4a6-987a-4cb0-9528-29c87c388097",
   "metadata": {},
   "outputs": [
    {
     "name": "stdout",
     "output_type": "stream",
     "text": [
      "World\n"
     ]
    }
   ],
   "source": [
    "if 0:\n",
    "    print(\"Hello\")\n",
    "else: \n",
    "    print(\"World\")"
   ]
  },
  {
   "cell_type": "code",
   "execution_count": null,
   "id": "dfb79dd5-bef0-4d29-9305-c39a700f9249",
   "metadata": {},
   "outputs": [],
   "source": []
  }
 ],
 "metadata": {
  "kernelspec": {
   "display_name": "Python 3 (ipykernel)",
   "language": "python",
   "name": "python3"
  },
  "language_info": {
   "codemirror_mode": {
    "name": "ipython",
    "version": 3
   },
   "file_extension": ".py",
   "mimetype": "text/x-python",
   "name": "python",
   "nbconvert_exporter": "python",
   "pygments_lexer": "ipython3",
   "version": "3.13.5"
  }
 },
 "nbformat": 4,
 "nbformat_minor": 5
}
