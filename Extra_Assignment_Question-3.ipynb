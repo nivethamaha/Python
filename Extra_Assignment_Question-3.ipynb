{
 "cells": [
  {
   "cell_type": "code",
   "execution_count": 1,
   "id": "e5753f63-334d-4516-8659-e0e330bd1e8e",
   "metadata": {},
   "outputs": [],
   "source": [
    "# print 'CORRECT' if i == 10 "
   ]
  },
  {
   "cell_type": "code",
   "execution_count": 13,
   "id": "7d2043ac-9a46-46fe-a81c-ee77ddfc8f61",
   "metadata": {},
   "outputs": [
    {
     "name": "stdin",
     "output_type": "stream",
     "text": [
      "Value= 10\n"
     ]
    },
    {
     "name": "stdout",
     "output_type": "stream",
     "text": [
      "CORRECT\n"
     ]
    }
   ],
   "source": [
    "i = int ( input(\"Value=\"))\n",
    "if (i==10):\n",
    "    print(\"CORRECT\")\n",
    "else:\n",
    "    print(\"WRONG\")"
   ]
  },
  {
   "cell_type": "code",
   "execution_count": 14,
   "id": "04f0e090-d8ea-43b5-84c0-73bf4c7bc2a0",
   "metadata": {},
   "outputs": [],
   "source": [
    " # Check the password, using if and else "
   ]
  },
  {
   "cell_type": "code",
   "execution_count": 18,
   "id": "a89b5345-d885-4e52-9d1c-497a34154728",
   "metadata": {},
   "outputs": [
    {
     "name": "stdin",
     "output_type": "stream",
     "text": [
      "Enter the password: HOPE@123\n"
     ]
    },
    {
     "name": "stdout",
     "output_type": "stream",
     "text": [
      "Your password is correct\n"
     ]
    }
   ],
   "source": [
    "password = input(\"Enter the password:\")\n",
    "if (password== \"HOPE@123\"):\n",
    "    print(\"Your password is correct\")\n",
    "else:\n",
    "    print(\"Your password is wrong\")"
   ]
  },
  {
   "cell_type": "code",
   "execution_count": 20,
   "id": "c157a890-0cdd-468f-8609-cc5598aea62e",
   "metadata": {},
   "outputs": [],
   "source": [
    " # Catagory the people by their age like children, adult, citizen, senior citizen..."
   ]
  },
  {
   "cell_type": "code",
   "execution_count": 19,
   "id": "88ca1c4a-14e3-4891-aed7-9363797c8819",
   "metadata": {},
   "outputs": [
    {
     "name": "stdin",
     "output_type": "stream",
     "text": [
      "age: 20\n"
     ]
    },
    {
     "name": "stdout",
     "output_type": "stream",
     "text": [
      "Adult\n"
     ]
    }
   ],
   "source": [
    "age = int ( input (\"age:\"))\n",
    "if (age<18):\n",
    "    print (\"Children\")\n",
    "elif (age<35):\n",
    "    print (\"Adult\")\n",
    "elif (age<59):\n",
    "    print (\"Citizen\")\n",
    "else:\n",
    "    print (\"Senior Citizen\")"
   ]
  },
  {
   "cell_type": "code",
   "execution_count": 21,
   "id": "388798b1-a9dc-4716-989d-a69a2cd490c0",
   "metadata": {},
   "outputs": [],
   "source": [
    "# Find whether given number is positive or negative"
   ]
  },
  {
   "cell_type": "code",
   "execution_count": 24,
   "id": "0b15f585-0266-414c-8143-fe088f4c29a3",
   "metadata": {},
   "outputs": [
    {
     "name": "stdin",
     "output_type": "stream",
     "text": [
      "Enter any number: 5\n"
     ]
    },
    {
     "name": "stdout",
     "output_type": "stream",
     "text": [
      "No. is positive\n"
     ]
    }
   ],
   "source": [
    "Num = int (input(\"Enter any number:\"))\n",
    "if (Num>0):\n",
    "    print (\"No. is positive\")\n",
    "else:\n",
    "    print (\"No. is negative\")"
   ]
  },
  {
   "cell_type": "code",
   "execution_count": 25,
   "id": "d5afea78-4f48-44e2-9c05-d65abcd22f1d",
   "metadata": {},
   "outputs": [],
   "source": [
    "# Check whether the given number is divisible by 5"
   ]
  },
  {
   "cell_type": "code",
   "execution_count": 27,
   "id": "f53bdc1b-0a36-4642-ad6b-1c6c9bfc4c49",
   "metadata": {},
   "outputs": [
    {
     "name": "stdin",
     "output_type": "stream",
     "text": [
      "Enter a number to check: 2\n"
     ]
    },
    {
     "name": "stdout",
     "output_type": "stream",
     "text": [
      "No. is not divisible by 5\n"
     ]
    }
   ],
   "source": [
    "Num = int (input (\"Enter a number to check:\"))\n",
    "if (Num%5==0):\n",
    "    print (\"No. is divisible by 5\")\n",
    "else:\n",
    "    print (\"No. is not divisible by 5\")"
   ]
  },
  {
   "cell_type": "code",
   "execution_count": null,
   "id": "a879e3c6-ecde-4c6c-a869-aaafe39001e1",
   "metadata": {},
   "outputs": [],
   "source": []
  }
 ],
 "metadata": {
  "kernelspec": {
   "display_name": "Python 3 (ipykernel)",
   "language": "python",
   "name": "python3"
  },
  "language_info": {
   "codemirror_mode": {
    "name": "ipython",
    "version": 3
   },
   "file_extension": ".py",
   "mimetype": "text/x-python",
   "name": "python",
   "nbconvert_exporter": "python",
   "pygments_lexer": "ipython3",
   "version": "3.13.5"
  }
 },
 "nbformat": 4,
 "nbformat_minor": 5
}
