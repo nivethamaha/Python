{
 "cells": [
  {
   "cell_type": "code",
   "execution_count": null,
   "id": "b0bc8ae6-1093-4a80-b38e-00d56c484f5b",
   "metadata": {},
   "outputs": [],
   "source": [
    " # Create a class and function, and list out the items in the list"
   ]
  },
  {
   "cell_type": "code",
   "execution_count": null,
   "id": "1a7b1bb1-fd47-4928-b561-abfebc8d66a8",
   "metadata": {},
   "outputs": [],
   "source": [
    "list=(\"Machine Learning\",\"Neural Networks\",\"Vision\",\"Robotics\",\"Speech Processing\",\"Natural Language Processing\")"
   ]
  },
  {
   "cell_type": "code",
   "execution_count": null,
   "id": "67e69e8e-7513-4755-a2f2-bfcf00f0d120",
   "metadata": {},
   "outputs": [],
   "source": [
    "class artificialIntelligence():\n",
    "    def subFields():\n",
    "        print (\"Sub-fields in AI are:\")\n",
    "        for temp in list:\n",
    "            print(temp)\n",
    "            temp1=(temp)\n",
    "        return temp1"
   ]
  },
  {
   "cell_type": "code",
   "execution_count": null,
   "id": "a2eb157b-024a-43f5-86f8-80302379cd13",
   "metadata": {},
   "outputs": [],
   "source": [
    "subFields=artificialIntelligence.subFields()"
   ]
  },
  {
   "cell_type": "code",
   "execution_count": null,
   "id": "fb31ee20-1500-4aaf-a392-352e95089d6a",
   "metadata": {},
   "outputs": [],
   "source": [
    "# Create a function that checks whether the given number is Odd or Even"
   ]
  },
  {
   "cell_type": "code",
   "execution_count": 8,
   "id": "fbb973fc-6698-484c-9cf8-1eca37344a53",
   "metadata": {
    "jp-MarkdownHeadingCollapsed": true
   },
   "outputs": [],
   "source": [
    "class oddEven():\n",
    "    def oddEven():\n",
    "        num = int (input(\"Enter the number:\"))\n",
    "        if (num%2==0):\n",
    "            print((num),\"is a Even number\")\n",
    "            value=num\n",
    "        else:\n",
    "            print((num),\"is a Odd number\")\n",
    "            value=num\n",
    "            return value"
   ]
  },
  {
   "cell_type": "code",
   "execution_count": 9,
   "id": "a9e32017-c1f5-48a3-bb2d-8d453236880c",
   "metadata": {},
   "outputs": [
    {
     "name": "stdin",
     "output_type": "stream",
     "text": [
      "Enter the number: 5862\n"
     ]
    },
    {
     "name": "stdout",
     "output_type": "stream",
     "text": [
      "5862 is a Even number\n"
     ]
    }
   ],
   "source": [
    "oddEven.oddEven()"
   ]
  },
  {
   "cell_type": "code",
   "execution_count": null,
   "id": "72e46a02-015a-4031-a83d-dec911f4bc85",
   "metadata": {},
   "outputs": [],
   "source": [
    "# Create a function that tells elegibility of marriage for male and female according to their age limit like 21 for male and 18 for female"
   ]
  },
  {
   "cell_type": "code",
   "execution_count": 11,
   "id": "cfbfc1d3-cc97-40f2-9857-56c9898b37d0",
   "metadata": {},
   "outputs": [],
   "source": [
    "class elegiblityForMarriage():\n",
    "    def eligibility():\n",
    "        gender= input(\"Your Gender:\")\n",
    "        age= int (input(\"Your Age:\"))\n",
    "            \n",
    "        if (gender==\"Male\" and age>21):\n",
    "            print(\"ELIGIBLE\")\n",
    "            message=\"ELIGIBLE\"\n",
    "        elif(gender==\"Female\" and age>18):\n",
    "            print(\"ELIGIBLE\")\n",
    "            message=\"ELIGIBLE\"\n",
    "        else:\n",
    "            print(\"NOT ELIGIBLE\")\n",
    "            message=\"NOT ELIGIBLE\"\n",
    "            return message\n"
   ]
  },
  {
   "cell_type": "code",
   "execution_count": 12,
   "id": "cb6290ad-b479-4b0d-9631-6f188dfc9b08",
   "metadata": {},
   "outputs": [
    {
     "name": "stdin",
     "output_type": "stream",
     "text": [
      "Your Gender: Female\n",
      "Your Age: 14\n"
     ]
    },
    {
     "name": "stdout",
     "output_type": "stream",
     "text": [
      "NOT ELIGIBLE\n"
     ]
    }
   ],
   "source": [
    "eligiblity=elegiblityForMarriage.eligibility()"
   ]
  },
  {
   "cell_type": "code",
   "execution_count": 3,
   "id": "18f7a86b-2d98-4ec0-b35d-98781d96bf44",
   "metadata": {},
   "outputs": [],
   "source": [
    "# calculate the percentage of your 10th mark "
   ]
  },
  {
   "cell_type": "code",
   "execution_count": 18,
   "id": "b1811ded-908e-4eff-bbe9-ec0ee529e8a2",
   "metadata": {},
   "outputs": [],
   "source": [
    "class Findpercent():\n",
    "    def percentage():\n",
    "        sub1=int (input(\"Subject1=\"))\n",
    "        sub2=int (input(\"Subject2=\"))\n",
    "        sub3=int (input(\"Subject3=\"))\n",
    "        sub4=int (input(\"Subject4=\"))\n",
    "        sub5=int (input(\"Subject5=\"))\n",
    "        total=sub1+sub2+sub3+sub4+sub5\n",
    "        print (\"Total=\",total)\n",
    "        message=\"Total=\",total\n",
    "        percentage=(total/500)*100\n",
    "        print (\"Percentage:\",percentage)\n",
    "        message=\"Percentage:\",percentage\n",
    "        return message"
   ]
  },
  {
   "cell_type": "code",
   "execution_count": 19,
   "id": "419272bc-4808-4435-8b32-7a35a6d2d729",
   "metadata": {},
   "outputs": [
    {
     "name": "stdin",
     "output_type": "stream",
     "text": [
      "Subject1= 98\n",
      "Subject2= 87\n",
      "Subject3= 95\n",
      "Subject4= 95\n",
      "Subject5= 93\n"
     ]
    },
    {
     "name": "stdout",
     "output_type": "stream",
     "text": [
      "Total= 468\n",
      "Percentage: 93.60000000000001\n"
     ]
    }
   ],
   "source": [
    "findpercent=Findpercent.percentage()"
   ]
  },
  {
   "cell_type": "code",
   "execution_count": 20,
   "id": "17a03ff5-2a50-4133-9bf9-e46dd8de5907",
   "metadata": {},
   "outputs": [],
   "source": [
    "#print area and perimeter of triangle using class and functions "
   ]
  },
  {
   "cell_type": "code",
   "execution_count": 25,
   "id": "669454b3-e23a-44f4-84f9-2f4f8e795c51",
   "metadata": {},
   "outputs": [],
   "source": [
    "class Triangle():\n",
    "    def triangle():\n",
    "        height=int (input(\"Height:\"))\n",
    "        breadth=int (input(\"Breadth:\"))\n",
    "        area=(height*breadth)/2\n",
    "        print(\"Area of triangle:\",area)\n",
    "        message=\"Area of triangle:\",area\n",
    "        \n",
    "        h1= int (input(\"Height1:\"))\n",
    "        h2=int (input(\"Height2:\"))\n",
    "        h3=int (input(\"Height3:\"))\n",
    "        perimeter=h1+h2+h3\n",
    "        print(\"Perimeter of triangle:\",perimeter)\n",
    "        message=\"Perimeter of triangle:\",perimeter\n",
    "        return message\n",
    "        \n",
    "        "
   ]
  },
  {
   "cell_type": "code",
   "execution_count": 26,
   "id": "875eea5a-7424-4989-b3b1-3fb6d12c7e91",
   "metadata": {},
   "outputs": [
    {
     "name": "stdin",
     "output_type": "stream",
     "text": [
      "Height: 32\n",
      "Breadth: 34\n"
     ]
    },
    {
     "name": "stdout",
     "output_type": "stream",
     "text": [
      "Area of triangle: 544.0\n"
     ]
    },
    {
     "name": "stdin",
     "output_type": "stream",
     "text": [
      "Height1: 2\n",
      "Height2: 4\n",
      "Height3: 4\n"
     ]
    },
    {
     "name": "stdout",
     "output_type": "stream",
     "text": [
      "Perimeter of triangle: 10\n"
     ]
    }
   ],
   "source": [
    "triangle=Triangle.triangle()"
   ]
  },
  {
   "cell_type": "code",
   "execution_count": null,
   "id": "9707be80-85f0-418f-980a-81ff06bbd0ff",
   "metadata": {},
   "outputs": [],
   "source": []
  }
 ],
 "metadata": {
  "kernelspec": {
   "display_name": "Python 3 (ipykernel)",
   "language": "python",
   "name": "python3"
  },
  "language_info": {
   "codemirror_mode": {
    "name": "ipython",
    "version": 3
   },
   "file_extension": ".py",
   "mimetype": "text/x-python",
   "name": "python",
   "nbconvert_exporter": "python",
   "pygments_lexer": "ipython3",
   "version": "3.13.5"
  }
 },
 "nbformat": 4,
 "nbformat_minor": 5
}
