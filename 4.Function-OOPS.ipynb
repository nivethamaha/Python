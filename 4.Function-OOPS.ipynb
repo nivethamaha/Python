{
 "cells": [
  {
   "cell_type": "code",
   "execution_count": 1,
   "id": "ee8a1c5e-6afa-468b-bc08-5a2081ecefb5",
   "metadata": {},
   "outputs": [],
   "source": [
    "#Function OOPS"
   ]
  },
  {
   "cell_type": "code",
   "execution_count": 2,
   "id": "88d6475c-7bea-4cb7-aa6d-5591974637d2",
   "metadata": {},
   "outputs": [],
   "source": [
    "lists=[23, 45, 67, 53, 30]"
   ]
  },
  {
   "cell_type": "code",
   "execution_count": 6,
   "id": "f3209c1c-d7c9-4f77-8886-dc92c0203f9a",
   "metadata": {},
   "outputs": [],
   "source": [
    "def Agecategory():\n",
    "    for age in lists:\n",
    "        if (age<18):\n",
    "            print (\"Children\")\n",
    "        elif (age<35):\n",
    "            print (\"Adult\")\n",
    "        elif (age<59):\n",
    "            print (\"Citizen\")\n",
    "        else:\n",
    "            print (\"Senior Citizen\")   "
   ]
  },
  {
   "cell_type": "code",
   "execution_count": 7,
   "id": "aa44dcd4-dcb0-4c19-8c86-fc63b43f0f7f",
   "metadata": {},
   "outputs": [
    {
     "name": "stdout",
     "output_type": "stream",
     "text": [
      "Adult\n",
      "Citizen\n",
      "Senior Citizen\n",
      "Citizen\n",
      "Adult\n"
     ]
    }
   ],
   "source": [
    "Agecategory()"
   ]
  },
  {
   "cell_type": "code",
   "execution_count": 8,
   "id": "5b52faa3-dd33-4ed0-b208-ba0a36272891",
   "metadata": {},
   "outputs": [],
   "source": [
    "# Function with returnstmnt "
   ]
  },
  {
   "cell_type": "code",
   "execution_count": 20,
   "id": "7a819f3a-1cca-4be0-a90f-a3d923b5d257",
   "metadata": {},
   "outputs": [],
   "source": [
    "def Agecategory():\n",
    "        if (age<18):\n",
    "            print (\"Children\")\n",
    "            cate=\"Children\"\n",
    "        elif (age<35):\n",
    "            print (\"Adult\")\n",
    "            cate=\"Adult\"\n",
    "        elif (age<59):\n",
    "            print (\"Citizen\")\n",
    "            cate=\"Citizen\"\n",
    "        else:\n",
    "            print (\"Senior Citizen\")\n",
    "            cate=\"Senior Citizen\"\n",
    "        return cate"
   ]
  },
  {
   "cell_type": "code",
   "execution_count": 21,
   "id": "cc0a8709-95c4-4f57-8a91-6730189ad7e6",
   "metadata": {},
   "outputs": [
    {
     "name": "stdin",
     "output_type": "stream",
     "text": [
      "Enter the age: 10\n"
     ]
    },
    {
     "name": "stdout",
     "output_type": "stream",
     "text": [
      "Children\n"
     ]
    },
    {
     "data": {
      "text/plain": [
       "'Children'"
      ]
     },
     "execution_count": 21,
     "metadata": {},
     "output_type": "execute_result"
    }
   ],
   "source": [
    "age = int (input(\"Enter the age:\"))\n",
    "Agecategory()"
   ]
  },
  {
   "cell_type": "markdown",
   "id": "22408c80-89a7-4d32-901e-e5a013a8dceb",
   "metadata": {},
   "source": [
    "both print statement and output is produced due to return statement"
   ]
  },
  {
   "cell_type": "code",
   "execution_count": 17,
   "id": "138aabf2-27ff-4642-8e07-c0913435054f",
   "metadata": {},
   "outputs": [],
   "source": [
    "def Agecategory():\n",
    "        if (age<18):\n",
    "            print (\"Children\")\n",
    "            cate=\"Children\"\n",
    "        elif (age<35):\n",
    "            print (\"Adult\")\n",
    "            cate=\"Adult\"\n",
    "        elif (age<59):\n",
    "            print (\"Citizen\")\n",
    "            cate=\"Citizen\"\n",
    "        else:\n",
    "            print (\"Senior Citizen\")\n",
    "            cate=\"Senior Citizen\"\n",
    "        return cate"
   ]
  },
  {
   "cell_type": "code",
   "execution_count": 18,
   "id": "b576a38e-9aa0-4e24-abea-8157704c69da",
   "metadata": {},
   "outputs": [
    {
     "name": "stdin",
     "output_type": "stream",
     "text": [
      "Enter the age: 10\n"
     ]
    },
    {
     "name": "stdout",
     "output_type": "stream",
     "text": [
      "Children\n"
     ]
    }
   ],
   "source": [
    "age = int (input(\"Enter the age:\"))\n",
    "agecate=Agecategory()"
   ]
  },
  {
   "cell_type": "code",
   "execution_count": 19,
   "id": "433fb236-e75f-4a10-b46e-68232f3384d6",
   "metadata": {},
   "outputs": [
    {
     "name": "stdout",
     "output_type": "stream",
     "text": [
      "Children\n"
     ]
    }
   ],
   "source": [
    "print (agecate)"
   ]
  },
  {
   "cell_type": "code",
   "execution_count": 22,
   "id": "185f2ac4-f424-4281-ab9f-2e3ead2c2482",
   "metadata": {},
   "outputs": [],
   "source": [
    "#Function call to action from return statement"
   ]
  },
  {
   "cell_type": "code",
   "execution_count": 1,
   "id": "dd935a9d-04f1-43d6-a065-a49001352f6f",
   "metadata": {},
   "outputs": [],
   "source": [
    "def oddEven():\n",
    "    num = int ( input (\"Enter the number:\"))\n",
    "    if (num%2==0):\n",
    "        print (\"Even\")\n",
    "        message=\"Even\"\n",
    "    else:\n",
    "        print(\"Odd\")\n",
    "        message=\"Odd\"\n",
    "    return message"
   ]
  },
  {
   "cell_type": "code",
   "execution_count": 38,
   "id": "9d558b38-fb0b-4a93-a1fa-0350d60d3831",
   "metadata": {},
   "outputs": [
    {
     "name": "stdin",
     "output_type": "stream",
     "text": [
      "Enter the number: 10\n"
     ]
    },
    {
     "name": "stdout",
     "output_type": "stream",
     "text": [
      "Even\n"
     ]
    }
   ],
   "source": [
    "message=oddEven()"
   ]
  },
  {
   "cell_type": "code",
   "execution_count": 39,
   "id": "f7e07c7a-bcd8-4768-973b-179257e938c1",
   "metadata": {},
   "outputs": [
    {
     "name": "stdout",
     "output_type": "stream",
     "text": [
      "The given number is even\n"
     ]
    }
   ],
   "source": [
    "if(message==\"Even\"):\n",
    "    print (\"The given number is even\")\n",
    "else:\n",
    "    print (\"The given number is odd\")"
   ]
  },
  {
   "cell_type": "code",
   "execution_count": 40,
   "id": "6ee6477f-5248-446e-a9ad-e08c0712f0f2",
   "metadata": {},
   "outputs": [],
   "source": [
    "#BMI"
   ]
  },
  {
   "cell_type": "code",
   "execution_count": 49,
   "id": "62692dee-9c5f-4c1b-8447-37423f8092ec",
   "metadata": {},
   "outputs": [],
   "source": [
    "def bmi():\n",
    "    bmi=float (input(\"Enter the BMI Index:\"))\n",
    "    if(bmi<18.5):\n",
    "        print(\"Underweight\")\n",
    "        message=\"Underweight\"\n",
    "    elif(bmi<24.9):\n",
    "        print(\"Normal weight\")\n",
    "        message=\"Normal weight\"\n",
    "    elif(bmi<29.9):\n",
    "        print(\"Overweight\")\n",
    "        message=\"Overweight\"\n",
    "    elif(bmi<39.9):\n",
    "        print(\"Obese\")\n",
    "        message=\"Obese\"\n",
    "    else:\n",
    "        print(\"Morbidly Obese\") \n",
    "        message=\"Morbidly Obese\"\n",
    "        return message"
   ]
  },
  {
   "cell_type": "code",
   "execution_count": 50,
   "id": "f81a7a58-27c1-407b-a2c2-32c7aaf4a3ae",
   "metadata": {},
   "outputs": [
    {
     "name": "stdin",
     "output_type": "stream",
     "text": [
      "Enter the BMI Index: 45\n"
     ]
    },
    {
     "name": "stdout",
     "output_type": "stream",
     "text": [
      "Morbidly Obese\n"
     ]
    }
   ],
   "source": [
    "bmi=bmi()"
   ]
  },
  {
   "cell_type": "code",
   "execution_count": 51,
   "id": "bfac595d-bf64-4805-b23d-0558a2dbfc79",
   "metadata": {},
   "outputs": [
    {
     "data": {
      "text/plain": [
       "'Morbidly Obese'"
      ]
     },
     "execution_count": 51,
     "metadata": {},
     "output_type": "execute_result"
    }
   ],
   "source": [
    "bmi"
   ]
  },
  {
   "cell_type": "code",
   "execution_count": 52,
   "id": "76ee4621-80a3-49a2-9c39-7efc3b78cf3d",
   "metadata": {},
   "outputs": [],
   "source": [
    "#Parameter passing/ argument passing"
   ]
  },
  {
   "cell_type": "code",
   "execution_count": 53,
   "id": "2868be2a-129f-4743-a88e-1f423a900a8e",
   "metadata": {},
   "outputs": [],
   "source": [
    "def addition(num1, num2):\n",
    "    add=num1+num2\n",
    "    return add"
   ]
  },
  {
   "cell_type": "code",
   "execution_count": 54,
   "id": "51527977-0f8e-4f86-86f7-c70399565cc5",
   "metadata": {},
   "outputs": [
    {
     "data": {
      "text/plain": [
       "9"
      ]
     },
     "execution_count": 54,
     "metadata": {},
     "output_type": "execute_result"
    }
   ],
   "source": [
    "addition(4,5)"
   ]
  },
  {
   "cell_type": "code",
   "execution_count": 55,
   "id": "3c402ba6-6ca5-47c2-9b5f-dfe39169036b",
   "metadata": {},
   "outputs": [],
   "source": [
    "def subtraction(num1, num2):\n",
    "    sub=num1-num2\n",
    "    return sub"
   ]
  },
  {
   "cell_type": "code",
   "execution_count": 56,
   "id": "005eb8bf-7f88-4a48-9aed-ed4ba8ecdf2a",
   "metadata": {},
   "outputs": [
    {
     "data": {
      "text/plain": [
       "-4"
      ]
     },
     "execution_count": 56,
     "metadata": {},
     "output_type": "execute_result"
    }
   ],
   "source": [
    "subtraction(1,5)"
   ]
  },
  {
   "cell_type": "code",
   "execution_count": null,
   "id": "11a3a94f-e876-4eb3-b8da-2927e76462b0",
   "metadata": {},
   "outputs": [],
   "source": []
  }
 ],
 "metadata": {
  "kernelspec": {
   "display_name": "Python 3 (ipykernel)",
   "language": "python",
   "name": "python3"
  },
  "language_info": {
   "codemirror_mode": {
    "name": "ipython",
    "version": 3
   },
   "file_extension": ".py",
   "mimetype": "text/x-python",
   "name": "python",
   "nbconvert_exporter": "python",
   "pygments_lexer": "ipython3",
   "version": "3.13.5"
  }
 },
 "nbformat": 4,
 "nbformat_minor": 5
}
