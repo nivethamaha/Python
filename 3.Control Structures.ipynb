{
 "cells": [
  {
   "cell_type": "code",
   "execution_count": 10,
   "id": "fdf29222-39f5-4347-be54-31cccc83491f",
   "metadata": {},
   "outputs": [
    {
     "name": "stdin",
     "output_type": "stream",
     "text": [
      "Enter the age: 17\n"
     ]
    },
    {
     "name": "stdout",
     "output_type": "stream",
     "text": [
      "Children\n"
     ]
    }
   ],
   "source": [
    "#if-else\n",
    "\n",
    "age = int (input(\"Enter the age:\"))\n",
    "if(age<18):\n",
    "    print(\"Children\")\n",
    "else:\n",
    "    print(\"Adult\")"
   ]
  },
  {
   "cell_type": "markdown",
   "id": "212613dd-628d-4805-bab0-f4f92180d294",
   "metadata": {},
   "source": [
    "#if-elif\n",
    "\n",
    "age<18 -----> children\n",
    "age<35 -----> adult\n",
    "age<59 ------>citizen\n",
    "age>59 ------> senior citizen"
   ]
  },
  {
   "cell_type": "code",
   "execution_count": 7,
   "id": "95a8f34d-fee6-4593-97f3-a59c95ec7912",
   "metadata": {},
   "outputs": [
    {
     "name": "stdin",
     "output_type": "stream",
     "text": [
      "Enter the age: 28\n"
     ]
    },
    {
     "name": "stdout",
     "output_type": "stream",
     "text": [
      "Adult\n"
     ]
    }
   ],
   "source": [
    "age = int ( input (\"Enter the age:\"))\n",
    "if (age<18):\n",
    "    print (\"Children\")\n",
    "elif (age<35):\n",
    "    print (\"Adult\")\n",
    "elif (age<59):\n",
    "    print (\"Citizen\")\n",
    "else:\n",
    "    print (\"Senior Citizen\")"
   ]
  },
  {
   "cell_type": "code",
   "execution_count": 11,
   "id": "b937416c-8c39-423c-85fc-1e127b439157",
   "metadata": {},
   "outputs": [],
   "source": [
    "#For_Loop"
   ]
  },
  {
   "cell_type": "code",
   "execution_count": 14,
   "id": "7914c37c-618e-45cd-a8fb-38a932147623",
   "metadata": {},
   "outputs": [],
   "source": [
    "lists=[23, 45, 67, 53, 30]"
   ]
  },
  {
   "cell_type": "code",
   "execution_count": 15,
   "id": "dc26e4c1-883a-40b3-a3b9-d3f85b2a9571",
   "metadata": {},
   "outputs": [
    {
     "name": "stdout",
     "output_type": "stream",
     "text": [
      "23\n",
      "45\n",
      "67\n",
      "53\n",
      "30\n"
     ]
    }
   ],
   "source": [
    "for temp in lists:\n",
    "    print (temp)"
   ]
  },
  {
   "cell_type": "code",
   "execution_count": 18,
   "id": "c2347a01-8cc7-4c23-899f-b48b2000bac6",
   "metadata": {},
   "outputs": [
    {
     "name": "stdout",
     "output_type": "stream",
     "text": [
      "Adult\n",
      "Citizen\n",
      "Senior Citizen\n",
      "Citizen\n",
      "Adult\n"
     ]
    }
   ],
   "source": [
    "for age in lists:\n",
    "    if (age<18):\n",
    "       print (\"Children\")\n",
    "    elif (age<35):\n",
    "       print (\"Adult\")\n",
    "    elif (age<59):\n",
    "       print (\"Citizen\")\n",
    "    else:\n",
    "       print (\"Senior Citizen\")"
   ]
  },
  {
   "cell_type": "code",
   "execution_count": 19,
   "id": "72491da3-37b6-4bcb-8dc7-351635738e6f",
   "metadata": {},
   "outputs": [],
   "source": [
    "#range"
   ]
  },
  {
   "cell_type": "code",
   "execution_count": 20,
   "id": "1c119460-7919-4f51-a2e8-b80d99e92ae7",
   "metadata": {},
   "outputs": [
    {
     "data": {
      "text/plain": [
       "range(0, 10)"
      ]
     },
     "execution_count": 20,
     "metadata": {},
     "output_type": "execute_result"
    }
   ],
   "source": [
    "range(0, 10)"
   ]
  },
  {
   "cell_type": "code",
   "execution_count": 21,
   "id": "3d547eeb-f4fd-481b-8c67-75aafaa6f2af",
   "metadata": {},
   "outputs": [
    {
     "name": "stdout",
     "output_type": "stream",
     "text": [
      "0\n",
      "1\n",
      "2\n",
      "3\n",
      "4\n",
      "5\n",
      "6\n",
      "7\n",
      "8\n",
      "9\n"
     ]
    }
   ],
   "source": [
    "for num in range(0,10):\n",
    "    print (num)"
   ]
  },
  {
   "cell_type": "code",
   "execution_count": 23,
   "id": "95cb20cf-f130-44bc-9719-c0fff39df90b",
   "metadata": {},
   "outputs": [
    {
     "name": "stdout",
     "output_type": "stream",
     "text": [
      "0\n",
      "2\n",
      "4\n",
      "6\n",
      "8\n"
     ]
    }
   ],
   "source": [
    "for num in range(0,10,2):\n",
    "    print(num)"
   ]
  },
  {
   "cell_type": "code",
   "execution_count": 25,
   "id": "71cf0657-7421-4975-9ce5-cba5f5f2a07f",
   "metadata": {},
   "outputs": [
    {
     "name": "stdin",
     "output_type": "stream",
     "text": [
      "Enter the number: 2\n"
     ]
    },
    {
     "name": "stdout",
     "output_type": "stream",
     "text": [
      "Even\n"
     ]
    }
   ],
   "source": [
    "num = int ( input (\"Enter the number:\"))\n",
    "if (num%2==0):\n",
    "    print (\"Even\")\n",
    "else:\n",
    "    print(\"Odd\")"
   ]
  },
  {
   "cell_type": "code",
   "execution_count": null,
   "id": "ef0c0ca2-c170-4ee0-8d1b-734cc4c5d5f6",
   "metadata": {},
   "outputs": [],
   "source": []
  }
 ],
 "metadata": {
  "kernelspec": {
   "display_name": "Python 3 (ipykernel)",
   "language": "python",
   "name": "python3"
  },
  "language_info": {
   "codemirror_mode": {
    "name": "ipython",
    "version": 3
   },
   "file_extension": ".py",
   "mimetype": "text/x-python",
   "name": "python",
   "nbconvert_exporter": "python",
   "pygments_lexer": "ipython3",
   "version": "3.13.5"
  }
 },
 "nbformat": 4,
 "nbformat_minor": 5
}
