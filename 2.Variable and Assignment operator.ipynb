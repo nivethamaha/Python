{
 "cells": [
  {
   "cell_type": "code",
   "execution_count": 1,
   "id": "1d37ce16-b139-49c4-9571-fc657a091aa8",
   "metadata": {},
   "outputs": [],
   "source": [
    "num1=18\n",
    "num2=27\n",
    "add = num1 + num2"
   ]
  },
  {
   "cell_type": "code",
   "execution_count": 2,
   "id": "043dc843-6c5e-40e8-a703-bbdad2298d46",
   "metadata": {},
   "outputs": [
    {
     "name": "stdout",
     "output_type": "stream",
     "text": [
      "add\n"
     ]
    }
   ],
   "source": [
    "print (\"add\")"
   ]
  },
  {
   "cell_type": "code",
   "execution_count": 3,
   "id": "9658b684-5549-4ea0-9af4-226767583446",
   "metadata": {},
   "outputs": [
    {
     "name": "stdout",
     "output_type": "stream",
     "text": [
      "add\n"
     ]
    }
   ],
   "source": [
    "print ('add')"
   ]
  },
  {
   "cell_type": "code",
   "execution_count": 4,
   "id": "064b35ee-7b0e-4122-8f0b-4d3456e6e8a5",
   "metadata": {},
   "outputs": [
    {
     "ename": "SyntaxError",
     "evalue": "Missing parentheses in call to 'print'. Did you mean print(...)? (2726025434.py, line 1)",
     "output_type": "error",
     "traceback": [
      "\u001b[1;36m  Cell \u001b[1;32mIn[4], line 1\u001b[1;36m\u001b[0m\n\u001b[1;33m    print add\u001b[0m\n\u001b[1;37m    ^\u001b[0m\n\u001b[1;31mSyntaxError\u001b[0m\u001b[1;31m:\u001b[0m Missing parentheses in call to 'print'. Did you mean print(...)?\n"
     ]
    }
   ],
   "source": [
    "print add"
   ]
  },
  {
   "cell_type": "code",
   "execution_count": 5,
   "id": "92abb71b-7621-44a0-b6a7-c48b6c221caf",
   "metadata": {},
   "outputs": [
    {
     "name": "stdout",
     "output_type": "stream",
     "text": [
      "45\n"
     ]
    }
   ],
   "source": [
    "print(add)"
   ]
  },
  {
   "cell_type": "code",
   "execution_count": 12,
   "id": "ab1bee1f-b304-4c9f-afef-411ec29fa7bc",
   "metadata": {},
   "outputs": [
    {
     "name": "stdout",
     "output_type": "stream",
     "text": [
      "The addition of two numbers\n",
      "The number1: 10\n",
      "The number2: 30\n",
      "The Answer: 40\n"
     ]
    }
   ],
   "source": [
    "print(\"The addition of two numbers\")\n",
    "num1=10\n",
    "print(\"The number1:\", num1)\n",
    "num2=30\n",
    "print(\"The number2:\", num2)\n",
    "print (\"The Answer:\", num1+num2)"
   ]
  },
  {
   "cell_type": "code",
   "execution_count": 16,
   "id": "30aa45f3-4a4e-4258-a647-da3fc0f17bb3",
   "metadata": {},
   "outputs": [
    {
     "name": "stdin",
     "output_type": "stream",
     "text": [
      "Enter the NUM1: 20\n"
     ]
    }
   ],
   "source": [
    "num1 = input (\"Enter the NUM1:\")"
   ]
  },
  {
   "cell_type": "code",
   "execution_count": 17,
   "id": "ebb12ebe-dbd0-42ac-82f4-314042c3cfa3",
   "metadata": {},
   "outputs": [
    {
     "name": "stdin",
     "output_type": "stream",
     "text": [
      "Enter the NUM2: 50\n"
     ]
    }
   ],
   "source": [
    "num2 = input (\"Enter the NUM2:\")"
   ]
  },
  {
   "cell_type": "code",
   "execution_count": 18,
   "id": "2ac8d622-0149-49d1-8e60-3239b9bbf91c",
   "metadata": {},
   "outputs": [
    {
     "name": "stdout",
     "output_type": "stream",
     "text": [
      "2050\n"
     ]
    }
   ],
   "source": [
    "add= num1+num2\n",
    "print (add)\n"
   ]
  },
  {
   "cell_type": "code",
   "execution_count": 19,
   "id": "9cd2ec6a-2cdb-49f0-805d-c5b8c0aa8237",
   "metadata": {},
   "outputs": [
    {
     "name": "stdin",
     "output_type": "stream",
     "text": [
      "Enter the NUM1: 20\n",
      "Enter the NUM2: 50\n"
     ]
    }
   ],
   "source": [
    "num1 = int (input (\"Enter the NUM1:\"))\n",
    "num2 = int (input (\"Enter the NUM2:\"))"
   ]
  },
  {
   "cell_type": "code",
   "execution_count": 20,
   "id": "8c4f90f3-7d63-480d-8100-86ca1a3a1811",
   "metadata": {},
   "outputs": [
    {
     "name": "stdout",
     "output_type": "stream",
     "text": [
      "70\n"
     ]
    }
   ],
   "source": [
    "add= num1+num2\n",
    "print (add)\n"
   ]
  },
  {
   "cell_type": "code",
   "execution_count": null,
   "id": "6337bc09-369f-4eb8-ab14-d29c380554d1",
   "metadata": {},
   "outputs": [],
   "source": []
  }
 ],
 "metadata": {
  "kernelspec": {
   "display_name": "Python 3 (ipykernel)",
   "language": "python",
   "name": "python3"
  },
  "language_info": {
   "codemirror_mode": {
    "name": "ipython",
    "version": 3
   },
   "file_extension": ".py",
   "mimetype": "text/x-python",
   "name": "python",
   "nbconvert_exporter": "python",
   "pygments_lexer": "ipython3",
   "version": "3.13.5"
  }
 },
 "nbformat": 4,
 "nbformat_minor": 5
}
