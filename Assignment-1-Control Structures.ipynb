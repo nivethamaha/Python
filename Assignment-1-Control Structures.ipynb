{
 "cells": [
  {
   "cell_type": "code",
   "execution_count": 1,
   "id": "d30b88a0-93cc-4bc7-a734-5c2909001440",
   "metadata": {},
   "outputs": [
    {
     "name": "stdout",
     "output_type": "stream",
     "text": [
      "Welcome to Assignment-1\n"
     ]
    }
   ],
   "source": [
    "print (\"Welcome to Assignment-1\")"
   ]
  },
  {
   "cell_type": "code",
   "execution_count": null,
   "id": "a37aeb27-ef8c-4b85-adf3-aebae9cf45c5",
   "metadata": {},
   "outputs": [],
   "source": []
  },
  {
   "cell_type": "code",
   "execution_count": 5,
   "id": "f28b24a3-37a6-4b99-9c55-0efc03c1c1a4",
   "metadata": {},
   "outputs": [
    {
     "name": "stdin",
     "output_type": "stream",
     "text": [
      "Num1= 10\n",
      "Num2= 30\n"
     ]
    },
    {
     "name": "stdout",
     "output_type": "stream",
     "text": [
      "Add= 40\n"
     ]
    }
   ],
   "source": [
    "Num1= int (input (\"Num1=\"))\n",
    "Num2= int (input (\"Num2=\"))\n",
    "Add = Num1 + Num2  \n",
    "print (\"Add=\",Add)"
   ]
  },
  {
   "cell_type": "code",
   "execution_count": null,
   "id": "37160b21-5278-40a9-970f-7724a6c2feaa",
   "metadata": {},
   "outputs": [],
   "source": [
    "#Body Mass Index"
   ]
  },
  {
   "cell_type": "code",
   "execution_count": 13,
   "id": "ad050cb2-9f21-4013-96f0-291f352f44af",
   "metadata": {},
   "outputs": [
    {
     "name": "stdin",
     "output_type": "stream",
     "text": [
      "Enter the BMI Index: 50\n"
     ]
    },
    {
     "name": "stdout",
     "output_type": "stream",
     "text": [
      "Morbidly Obese\n"
     ]
    }
   ],
   "source": [
    "bmi= float (input(\"Enter the BMI Index:\"))\n",
    "if(bmi<18.5):\n",
    "          print(\"Underweight\")\n",
    "elif(bmi<24.9):\n",
    "          print(\"Normal weight\")\n",
    "elif(bmi<29.9):\n",
    "          print(\"Overweight\")\n",
    "elif(bmi<39.9):\n",
    "          print(\"Obese\")\n",
    "else:\n",
    "      print(\"Morbidly Obese\")"
   ]
  },
  {
   "cell_type": "code",
   "execution_count": null,
   "id": "4b108419-0019-4677-ac8c-bad96d3b4b7e",
   "metadata": {},
   "outputs": [],
   "source": []
  }
 ],
 "metadata": {
  "kernelspec": {
   "display_name": "Python 3 (ipykernel)",
   "language": "python",
   "name": "python3"
  },
  "language_info": {
   "codemirror_mode": {
    "name": "ipython",
    "version": 3
   },
   "file_extension": ".py",
   "mimetype": "text/x-python",
   "name": "python",
   "nbconvert_exporter": "python",
   "pygments_lexer": "ipython3",
   "version": "3.13.5"
  }
 },
 "nbformat": 4,
 "nbformat_minor": 5
}
