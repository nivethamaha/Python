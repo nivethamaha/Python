{
 "cells": [
  {
   "cell_type": "code",
   "execution_count": null,
   "id": "ba29902f-bb9c-4aa7-aa9b-649c4a8f6412",
   "metadata": {},
   "outputs": [],
   "source": [
    "#print Statement"
   ]
  },
  {
   "cell_type": "code",
   "execution_count": null,
   "id": "01d21a80-b565-4c73-bcce-00de6ad861e1",
   "metadata": {},
   "outputs": [],
   "source": [
    "print (\"HOPE AI\")"
   ]
  },
  {
   "cell_type": "code",
   "execution_count": null,
   "id": "91052348-1b6a-4478-81dc-bca4664dec2a",
   "metadata": {},
   "outputs": [],
   "source": [
    "#Buy input"
   ]
  },
  {
   "cell_type": "code",
   "execution_count": 1,
   "id": "ccdd0042-60a0-4387-9700-09af6e9a031a",
   "metadata": {},
   "outputs": [
    {
     "name": "stdin",
     "output_type": "stream",
     "text": [
      "Enter your institute name: PSNA College of engineering and technology\n"
     ]
    }
   ],
   "source": [
    "name =input (\"Enter your institute name:\")"
   ]
  },
  {
   "cell_type": "code",
   "execution_count": null,
   "id": "ab7a4a31-782c-4015-a70b-b8cde0decad8",
   "metadata": {},
   "outputs": [],
   "source": [
    "#Buy input"
   ]
  },
  {
   "cell_type": "code",
   "execution_count": 2,
   "id": "3b2da0cb-73d7-4507-8553-16e2dcadf1b5",
   "metadata": {},
   "outputs": [
    {
     "name": "stdin",
     "output_type": "stream",
     "text": [
      "Enter your name: Nivetha\n",
      "Enter your age: 28\n",
      "Enter your school name: SBOA\n",
      "Enter your degree: B.tech IT\n"
     ]
    }
   ],
   "source": [
    "name =input (\"Enter your name:\")\n",
    "age =int (input (\"Enter your age:\"))\n",
    "school_name= input (\"Enter your school name:\")\n",
    "degree= input (\"Enter your degree:\")"
   ]
  },
  {
   "cell_type": "code",
   "execution_count": null,
   "id": "bac1907d-e397-4ffe-acdf-fc978b442033",
   "metadata": {},
   "outputs": [],
   "source": [
    "#Addition"
   ]
  },
  {
   "cell_type": "code",
   "execution_count": null,
   "id": "44b18d02-e414-4bd4-bfc1-26fb2dfbf7ca",
   "metadata": {},
   "outputs": [],
   "source": [
    "a = int(input(\"a=\"))\n",
    "b = int(input(\"b=\"))\n",
    "add = a+b\n",
    "print(\"add=\",add)"
   ]
  },
  {
   "cell_type": "code",
   "execution_count": null,
   "id": "9af1802f-8ac2-4524-8d35-122e61835a0d",
   "metadata": {},
   "outputs": [],
   "source": [
    "#Subtraction"
   ]
  },
  {
   "cell_type": "code",
   "execution_count": null,
   "id": "ab4840b3-222d-4a4a-937a-2098da7f2957",
   "metadata": {},
   "outputs": [],
   "source": [
    "a = int(input(\"a=\"))\n",
    "b = int(input(\"b=\"))\n",
    "sub = a-b\n",
    "print(\"sub=\",sub)"
   ]
  },
  {
   "cell_type": "code",
   "execution_count": null,
   "id": "87375da4-a1ae-4f37-beec-c8cf955477b3",
   "metadata": {},
   "outputs": [],
   "source": [
    "#Multiplication"
   ]
  },
  {
   "cell_type": "code",
   "execution_count": null,
   "id": "7f43c537-87d6-4e40-827a-f1843889622e",
   "metadata": {},
   "outputs": [],
   "source": [
    "a = int(input(\"a=\"))\n",
    "b = int(input(\"b=\"))\n",
    "mul = a*b\n",
    "print(\"mul=\",mul)"
   ]
  },
  {
   "cell_type": "code",
   "execution_count": null,
   "id": "22c965cb-e174-4482-8ea7-b42b3baf271b",
   "metadata": {},
   "outputs": [],
   "source": [
    "#Division"
   ]
  },
  {
   "cell_type": "code",
   "execution_count": null,
   "id": "cef27e4b-8984-4c8e-8113-65cf798cb958",
   "metadata": {},
   "outputs": [],
   "source": [
    "a = float(input(\"a=\"))\n",
    "b = float(input(\"b=\"))\n",
    "float div = a/b\n",
    "print(\"div=\",div)"
   ]
  },
  {
   "cell_type": "code",
   "execution_count": null,
   "id": "072b25aa-ce0c-4075-924b-acb499c83a53",
   "metadata": {},
   "outputs": [],
   "source": [
    "#Floor Division"
   ]
  },
  {
   "cell_type": "code",
   "execution_count": null,
   "id": "708cf772-ee80-4124-a78b-04c7fb314c35",
   "metadata": {},
   "outputs": [],
   "source": [
    "a = int(input(\"a=\"))\n",
    "b = int(input(\"b=\"))\n",
    "div = a//b\n",
    "print(\"div=\",div)"
   ]
  },
  {
   "cell_type": "code",
   "execution_count": null,
   "id": "1f376192-b761-4ecc-a804-e6fac555eaf7",
   "metadata": {},
   "outputs": [],
   "source": [
    "#Modulo"
   ]
  },
  {
   "cell_type": "code",
   "execution_count": null,
   "id": "df2bddd4-b5a4-4733-a068-70f2ef1e63aa",
   "metadata": {},
   "outputs": [],
   "source": [
    "a = int(input(\"a=\"))\n",
    "b = int(input(\"b=\"))\n",
    "modulo = a%b\n",
    "print(\"Modulo=\",modulo)"
   ]
  },
  {
   "cell_type": "code",
   "execution_count": null,
   "id": "f8d8ad01-27d5-40ed-bae6-d8e378e7e8e3",
   "metadata": {},
   "outputs": [],
   "source": [
    "#Power"
   ]
  },
  {
   "cell_type": "code",
   "execution_count": null,
   "id": "702c63e2-bfa3-4f27-8d81-21a017bcc85a",
   "metadata": {},
   "outputs": [],
   "source": [
    "a = int(input(\"a=\"))\n",
    "b = int(input(\"b=\"))\n",
    "power = a**b\n",
    "print(\"Power=\",power)"
   ]
  },
  {
   "cell_type": "code",
   "execution_count": null,
   "id": "f08ca77b-c82f-4fbf-a951-bd223454e0d3",
   "metadata": {},
   "outputs": [],
   "source": []
  }
 ],
 "metadata": {
  "kernelspec": {
   "display_name": "Python 3 (ipykernel)",
   "language": "python",
   "name": "python3"
  },
  "language_info": {
   "codemirror_mode": {
    "name": "ipython",
    "version": 3
   },
   "file_extension": ".py",
   "mimetype": "text/x-python",
   "name": "python",
   "nbconvert_exporter": "python",
   "pygments_lexer": "ipython3",
   "version": "3.13.5"
  }
 },
 "nbformat": 4,
 "nbformat_minor": 5
}
