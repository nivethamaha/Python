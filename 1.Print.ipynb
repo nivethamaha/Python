{
 "cells": [
  {
   "cell_type": "code",
   "execution_count": 1,
   "id": "ee54a5aa-8f7e-4e8c-bfb2-2372e9d34a64",
   "metadata": {},
   "outputs": [
    {
     "name": "stdout",
     "output_type": "stream",
     "text": [
      "YOU WILL SUCCEED\n"
     ]
    }
   ],
   "source": [
    "print (\"YOU WILL SUCCEED\")\n"
   ]
  },
  {
   "cell_type": "code",
   "execution_count": 2,
   "id": "e6393c64-7e41-48fe-b401-4ff298be78c8",
   "metadata": {},
   "outputs": [
    {
     "name": "stdout",
     "output_type": "stream",
     "text": [
      "OM\n"
     ]
    }
   ],
   "source": [
    "print(\"OM\")"
   ]
  },
  {
   "cell_type": "code",
   "execution_count": 3,
   "id": "2d5d126b-ac9d-4d62-bbf0-fe367be3549a",
   "metadata": {},
   "outputs": [
    {
     "name": "stdout",
     "output_type": "stream",
     "text": [
      "Hello\n"
     ]
    }
   ],
   "source": [
    "print ('Hello')"
   ]
  },
  {
   "cell_type": "code",
   "execution_count": null,
   "id": "8f8ad058-761b-4392-9ef4-263438eae158",
   "metadata": {},
   "outputs": [],
   "source": []
  }
 ],
 "metadata": {
  "kernelspec": {
   "display_name": "Python 3 (ipykernel)",
   "language": "python",
   "name": "python3"
  },
  "language_info": {
   "codemirror_mode": {
    "name": "ipython",
    "version": 3
   },
   "file_extension": ".py",
   "mimetype": "text/x-python",
   "name": "python",
   "nbconvert_exporter": "python",
   "pygments_lexer": "ipython3",
   "version": "3.13.5"
  }
 },
 "nbformat": 4,
 "nbformat_minor": 5
}
