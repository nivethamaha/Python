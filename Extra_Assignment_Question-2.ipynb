{
 "cells": [
  {
   "cell_type": "code",
   "execution_count": 11,
   "id": "15fed33e-c301-426b-8e4f-beb4f728b019",
   "metadata": {},
   "outputs": [],
   "source": [
    "# print 0 to 20 by using range "
   ]
  },
  {
   "cell_type": "code",
   "execution_count": 1,
   "id": "5ed08eec-9c1e-4839-8b6a-55743c4c55dc",
   "metadata": {},
   "outputs": [
    {
     "name": "stdout",
     "output_type": "stream",
     "text": [
      "0\n",
      "1\n",
      "2\n",
      "3\n",
      "4\n",
      "5\n",
      "6\n",
      "7\n",
      "8\n",
      "9\n",
      "10\n",
      "11\n",
      "12\n",
      "13\n",
      "14\n",
      "15\n",
      "16\n",
      "17\n",
      "18\n",
      "19\n"
     ]
    }
   ],
   "source": [
    "for num in range(0,20):\n",
    "    print (num)\n",
    " "
   ]
  },
  {
   "cell_type": "code",
   "execution_count": 20,
   "id": "fa1efdbd-ca45-430a-91b6-ec05f9489f12",
   "metadata": {},
   "outputs": [],
   "source": [
    " # print range 10 to 20 in List format"
   ]
  },
  {
   "cell_type": "code",
   "execution_count": 21,
   "id": "5295335d-d1c5-4527-9db8-2d83a493b1d2",
   "metadata": {},
   "outputs": [
    {
     "name": "stdout",
     "output_type": "stream",
     "text": [
      "[10, 11, 12, 13, 14, 15, 16, 17, 18, 19]\n"
     ]
    }
   ],
   "source": [
    "print (list(range(10, 20)))\n",
    "    "
   ]
  },
  {
   "cell_type": "code",
   "execution_count": 22,
   "id": "4651ed51-4904-423f-9ff4-e7255b89a91a",
   "metadata": {},
   "outputs": [],
   "source": [
    "# Print number of items in the list by using 'len'"
   ]
  },
  {
   "cell_type": "code",
   "execution_count": 25,
   "id": "ba377c39-7c65-45b6-9db2-320101d4e538",
   "metadata": {},
   "outputs": [
    {
     "name": "stdout",
     "output_type": "stream",
     "text": [
      "Number of item in the List2: 7\n"
     ]
    }
   ],
   "source": [
    "Lists2= [10, 20, 14, 55, 43, 87, 76]\n",
    "print (\"Number of item in the List2:\",len(Lists2))"
   ]
  },
  {
   "cell_type": "code",
   "execution_count": 26,
   "id": "88cd5c4e-dc43-4f43-8eb1-bb31ed33473d",
   "metadata": {},
   "outputs": [],
   "source": [
    "#char"
   ]
  },
  {
   "cell_type": "code",
   "execution_count": 27,
   "id": "be3935e4-bb3d-4155-8a17-9c883e78f27d",
   "metadata": {},
   "outputs": [
    {
     "name": "stdout",
     "output_type": "stream",
     "text": [
      "A\n",
      "r\n",
      "t\n",
      "i\n",
      "f\n",
      "i\n",
      "c\n",
      "i\n",
      "a\n",
      "l\n",
      " \n",
      "I\n",
      "n\n",
      "t\n",
      "e\n",
      "l\n",
      "l\n",
      "i\n",
      "g\n",
      "e\n",
      "n\n",
      "c\n",
      "e\n"
     ]
    }
   ],
   "source": [
    "text = \"Artificial Intelligence\"\n",
    "for char in text:\n",
    "    print(char)"
   ]
  },
  {
   "cell_type": "code",
   "execution_count": 28,
   "id": "f58a42f7-2204-4781-9e97-178adcee7df9",
   "metadata": {},
   "outputs": [
    {
     "name": "stdin",
     "output_type": "stream",
     "text": [
      "Enter your name:  Nivetha\n",
      "Enter your age:  28\n",
      "Enter your profession:  Engineer\n"
     ]
    },
    {
     "name": "stdout",
     "output_type": "stream",
     "text": [
      "-Your Name- Nivetha\n",
      "-Your Age- 28\n",
      "-Your Profession- Engineer\n"
     ]
    }
   ],
   "source": [
    "name = input(\"Enter your name: \")\n",
    "age = input(\"Enter your age: \")\n",
    "profession = input(\"Enter your profession: \")\n",
    "\n",
    "print(\"-Your Name-\", name)\n",
    "print(\"-Your Age-\", age)\n",
    "print(\"-Your Profession-\", profession)"
   ]
  },
  {
   "cell_type": "code",
   "execution_count": 1,
   "id": "5fc74b7a-d98f-4784-9a61-5c0dbf395ebe",
   "metadata": {},
   "outputs": [],
   "source": [
    "#Tuples"
   ]
  },
  {
   "cell_type": "code",
   "execution_count": 3,
   "id": "4da0db8d-2369-4202-ac87-a211102d5746",
   "metadata": {},
   "outputs": [
    {
     "name": "stdout",
     "output_type": "stream",
     "text": [
      "(1, 'Welcome', 2, 'Hope')\n"
     ]
    }
   ],
   "source": [
    "tup=(1, 'Welcome', 2, 'Hope')\n",
    "print(tup)"
   ]
  },
  {
   "cell_type": "code",
   "execution_count": 4,
   "id": "54096aae-84c0-4837-91b8-4d6408b022a0",
   "metadata": {},
   "outputs": [
    {
     "name": "stdout",
     "output_type": "stream",
     "text": [
      "((0, 1, 2, 3), ('python', 'HOPE'))\n"
     ]
    }
   ],
   "source": [
    "tuple1 = (0, 1, 2, 3) \n",
    "tuple2 = ('python', 'HOPE')\n",
    "tuple3 =(tuple1,tuple2)\n",
    "print (tuple3)"
   ]
  },
  {
   "cell_type": "code",
   "execution_count": 5,
   "id": "11d20c94-53ea-41f9-9db0-1aad1d1e533a",
   "metadata": {},
   "outputs": [],
   "source": [
    "# print Odd Numbers in the list"
   ]
  },
  {
   "cell_type": "code",
   "execution_count": 17,
   "id": "25324634-1b49-4aa8-b40a-7f8ab9d9a804",
   "metadata": {},
   "outputs": [
    {
     "name": "stdout",
     "output_type": "stream",
     "text": [
      "19 is odd\n",
      "25 is odd\n",
      "1 is odd\n"
     ]
    }
   ],
   "source": [
    "list=(20,10,16,19,25,1,276,188) \n",
    "num=[]\n",
    "for num in list:\n",
    "    if (num%2==1):\n",
    "        print (num, \"is odd\")"
   ]
  },
  {
   "cell_type": "code",
   "execution_count": 18,
   "id": "6d179508-7da9-448c-9ec4-64f8c4f4a61c",
   "metadata": {},
   "outputs": [],
   "source": [
    "# print Even numbers in the list"
   ]
  },
  {
   "cell_type": "code",
   "execution_count": 19,
   "id": "b53ff97c-dfc2-4bd2-88a7-5f467836fd33",
   "metadata": {},
   "outputs": [
    {
     "name": "stdout",
     "output_type": "stream",
     "text": [
      "20 is even\n",
      "10 is even\n",
      "16 is even\n",
      "276 is even\n",
      "188 is even\n"
     ]
    }
   ],
   "source": [
    "lists=(20,10,16,19,25,1,276,188)\n",
    "num=[]\n",
    "for num in list:\n",
    "    if (num%2==0):\n",
    "        print (num, \"is even\")"
   ]
  },
  {
   "cell_type": "code",
   "execution_count": null,
   "id": "cb8b07da-3d37-4b32-9877-8c06f0412809",
   "metadata": {},
   "outputs": [],
   "source": []
  }
 ],
 "metadata": {
  "kernelspec": {
   "display_name": "Python 3 (ipykernel)",
   "language": "python",
   "name": "python3"
  },
  "language_info": {
   "codemirror_mode": {
    "name": "ipython",
    "version": 3
   },
   "file_extension": ".py",
   "mimetype": "text/x-python",
   "name": "python",
   "nbconvert_exporter": "python",
   "pygments_lexer": "ipython3",
   "version": "3.13.5"
  }
 },
 "nbformat": 4,
 "nbformat_minor": 5
}
